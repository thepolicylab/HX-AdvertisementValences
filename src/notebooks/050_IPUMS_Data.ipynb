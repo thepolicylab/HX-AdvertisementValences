{
 "cells": [
  {
   "cell_type": "markdown",
   "metadata": {},
   "source": [
    "## Computing the percent of uninsured who have over the median household income\n",
    "\n",
    "Pulled `HCOVANY` and `HHINCOME` from IPUMS for ACS 2019. That's `usa_00016.*` in the\n",
    "data."
   ]
  },
  {
   "cell_type": "code",
   "execution_count": 1,
   "metadata": {},
   "outputs": [
    {
     "name": "stderr",
     "output_type": "stream",
     "text": [
      "/Users/kwilso14/repo/brown/HX-AdvertisementValences-private/.venv/lib/python3.8/site-packages/ipumspy/readers.py:46: CitationWarning: Use of data from IPUMS is subject to conditions including that users should cite the data appropriately.\n",
      "See the `ipums_conditions` attribute of this codebook for terms of use.\n",
      "See the `ipums_citation` attribute of this codebook for the appropriate citation.\n",
      "  warnings.warn(\n"
     ]
    }
   ],
   "source": [
    "from ipumspy import readers\n",
    "\n",
    "ddi_codebook = readers.read_ipums_ddi(\"../../data/ipums/usa_00016.xml\")\n",
    "ipums_df = readers.read_microdata(ddi_codebook, \"../../data/ipums/usa_00016.dat.xz\")"
   ]
  },
  {
   "cell_type": "code",
   "execution_count": 2,
   "metadata": {},
   "outputs": [
    {
     "data": {
      "text/html": [
       "<div>\n",
       "<style scoped>\n",
       "    .dataframe tbody tr th:only-of-type {\n",
       "        vertical-align: middle;\n",
       "    }\n",
       "\n",
       "    .dataframe tbody tr th {\n",
       "        vertical-align: top;\n",
       "    }\n",
       "\n",
       "    .dataframe thead th {\n",
       "        text-align: right;\n",
       "    }\n",
       "</style>\n",
       "<table border=\"1\" class=\"dataframe\">\n",
       "  <thead>\n",
       "    <tr style=\"text-align: right;\">\n",
       "      <th></th>\n",
       "      <th>YEAR</th>\n",
       "      <th>SAMPLE</th>\n",
       "      <th>SERIAL</th>\n",
       "      <th>CBSERIAL</th>\n",
       "      <th>HHWT</th>\n",
       "      <th>CLUSTER</th>\n",
       "      <th>STRATA</th>\n",
       "      <th>GQ</th>\n",
       "      <th>HHINCOME</th>\n",
       "      <th>PERNUM</th>\n",
       "      <th>PERWT</th>\n",
       "      <th>HCOVANY</th>\n",
       "    </tr>\n",
       "  </thead>\n",
       "  <tbody>\n",
       "    <tr>\n",
       "      <th>0</th>\n",
       "      <td>2019</td>\n",
       "      <td>201901</td>\n",
       "      <td>1</td>\n",
       "      <td>2019010000088</td>\n",
       "      <td>11.0</td>\n",
       "      <td>2019000000011</td>\n",
       "      <td>220001</td>\n",
       "      <td>4</td>\n",
       "      <td>9999999</td>\n",
       "      <td>1</td>\n",
       "      <td>11.0</td>\n",
       "      <td>2</td>\n",
       "    </tr>\n",
       "    <tr>\n",
       "      <th>1</th>\n",
       "      <td>2019</td>\n",
       "      <td>201901</td>\n",
       "      <td>2</td>\n",
       "      <td>2019010000096</td>\n",
       "      <td>70.0</td>\n",
       "      <td>2019000000021</td>\n",
       "      <td>100001</td>\n",
       "      <td>3</td>\n",
       "      <td>9999999</td>\n",
       "      <td>1</td>\n",
       "      <td>70.0</td>\n",
       "      <td>1</td>\n",
       "    </tr>\n",
       "    <tr>\n",
       "      <th>2</th>\n",
       "      <td>2019</td>\n",
       "      <td>201901</td>\n",
       "      <td>3</td>\n",
       "      <td>2019010000153</td>\n",
       "      <td>20.0</td>\n",
       "      <td>2019000000031</td>\n",
       "      <td>110001</td>\n",
       "      <td>4</td>\n",
       "      <td>9999999</td>\n",
       "      <td>1</td>\n",
       "      <td>20.0</td>\n",
       "      <td>2</td>\n",
       "    </tr>\n",
       "    <tr>\n",
       "      <th>3</th>\n",
       "      <td>2019</td>\n",
       "      <td>201901</td>\n",
       "      <td>4</td>\n",
       "      <td>2019010000198</td>\n",
       "      <td>79.0</td>\n",
       "      <td>2019000000041</td>\n",
       "      <td>110001</td>\n",
       "      <td>3</td>\n",
       "      <td>9999999</td>\n",
       "      <td>1</td>\n",
       "      <td>79.0</td>\n",
       "      <td>2</td>\n",
       "    </tr>\n",
       "    <tr>\n",
       "      <th>4</th>\n",
       "      <td>2019</td>\n",
       "      <td>201901</td>\n",
       "      <td>5</td>\n",
       "      <td>2019010000205</td>\n",
       "      <td>53.0</td>\n",
       "      <td>2019000000051</td>\n",
       "      <td>270101</td>\n",
       "      <td>3</td>\n",
       "      <td>9999999</td>\n",
       "      <td>1</td>\n",
       "      <td>53.0</td>\n",
       "      <td>1</td>\n",
       "    </tr>\n",
       "  </tbody>\n",
       "</table>\n",
       "</div>"
      ],
      "text/plain": [
       "   YEAR  SAMPLE  SERIAL       CBSERIAL  HHWT        CLUSTER  STRATA  GQ  \\\n",
       "0  2019  201901       1  2019010000088  11.0  2019000000011  220001   4   \n",
       "1  2019  201901       2  2019010000096  70.0  2019000000021  100001   3   \n",
       "2  2019  201901       3  2019010000153  20.0  2019000000031  110001   4   \n",
       "3  2019  201901       4  2019010000198  79.0  2019000000041  110001   3   \n",
       "4  2019  201901       5  2019010000205  53.0  2019000000051  270101   3   \n",
       "\n",
       "   HHINCOME  PERNUM  PERWT  HCOVANY  \n",
       "0   9999999       1   11.0        2  \n",
       "1   9999999       1   70.0        1  \n",
       "2   9999999       1   20.0        2  \n",
       "3   9999999       1   79.0        2  \n",
       "4   9999999       1   53.0        1  "
      ]
     },
     "execution_count": 2,
     "metadata": {},
     "output_type": "execute_result"
    }
   ],
   "source": [
    "ipums_df.head()"
   ]
  },
  {
   "cell_type": "code",
   "execution_count": 3,
   "metadata": {},
   "outputs": [
    {
     "data": {
      "text/plain": [
       "{'No health insurance coverage': 1, 'With health insurance coverage': 2}"
      ]
     },
     "execution_count": 3,
     "metadata": {},
     "output_type": "execute_result"
    }
   ],
   "source": [
    "ddi_codebook.get_variable_info(\"HCOVANY\").codes"
   ]
  },
  {
   "cell_type": "code",
   "execution_count": 4,
   "metadata": {},
   "outputs": [],
   "source": [
    "# Booleanize having insurance\n",
    "ipums_df[\"has_insurance\"] = ipums_df[\"HCOVANY\"] != ddi_codebook.get_variable_info(\"HCOVANY\").codes[\"No health insurance coverage\"]\n"
   ]
  },
  {
   "cell_type": "code",
   "execution_count": 5,
   "metadata": {},
   "outputs": [
    {
     "name": "stdout",
     "output_type": "stream",
     "text": [
      "31,003,296\n"
     ]
    }
   ],
   "source": [
    "# How many people have insurance?\n",
    "print(f'{((~ipums_df[\"has_insurance\"]) * ipums_df[\"PERWT\"]).sum():0,.0f}')"
   ]
  },
  {
   "cell_type": "code",
   "execution_count": 6,
   "metadata": {},
   "outputs": [
    {
     "name": "stdout",
     "output_type": "stream",
     "text": [
      "1,295,546\n"
     ]
    }
   ],
   "source": [
    "# The NA value is high, the bottom code is negative, and the top code doesn't exist, so\n",
    "# take a `<` and then negate below in ultimate computation\n",
    "#\n",
    "# Median income for 2019 pulled from https://fred.stlouisfed.org/series/MEHOINUSA646N\n",
    "ipums_df[\"below_median_income\"] = (ipums_df[\"HHINCOME\"] < 68703)\n",
    "print(f'{ipums_df[\"below_median_income\"].sum():,d}')"
   ]
  },
  {
   "cell_type": "code",
   "execution_count": 7,
   "metadata": {},
   "outputs": [
    {
     "name": "stdout",
     "output_type": "stream",
     "text": [
      "0.410\n"
     ]
    }
   ],
   "source": [
    "# Proportion of people who do not have insurance make _above_ median income\n",
    "val = (\n",
    "    (~ipums_df[\"has_insurance\"] * ~ipums_df[\"below_median_income\"] * ipums_df[\"PERWT\"]).sum() / \n",
    "    (~ipums_df[\"has_insurance\"] * ipums_df[\"PERWT\"]).sum()\n",
    ")\n",
    "print(f\"{val:0.03f}\")"
   ]
  },
  {
   "cell_type": "code",
   "execution_count": null,
   "metadata": {},
   "outputs": [],
   "source": []
  }
 ],
 "metadata": {
  "interpreter": {
   "hash": "c167cae8faf18e11343b2ae2aa5a053aa574af6c9424eb56f7c19a3c2b6cb28e"
  },
  "kernelspec": {
   "display_name": "Python 3.8.6 ('.venv': poetry)",
   "language": "python",
   "name": "python3"
  },
  "language_info": {
   "codemirror_mode": {
    "name": "ipython",
    "version": 3
   },
   "file_extension": ".py",
   "mimetype": "text/x-python",
   "name": "python",
   "nbconvert_exporter": "python",
   "pygments_lexer": "ipython3",
   "version": "3.8.6"
  },
  "orig_nbformat": 4
 },
 "nbformat": 4,
 "nbformat_minor": 2
}
