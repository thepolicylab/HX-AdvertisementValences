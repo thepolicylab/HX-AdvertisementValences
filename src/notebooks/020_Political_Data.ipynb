{
 "cells": [
  {
   "cell_type": "code",
   "execution_count": 1,
   "metadata": {},
   "outputs": [
    {
     "data": {
      "text/plain": [
       "True"
      ]
     },
     "execution_count": 1,
     "metadata": {},
     "output_type": "execute_result"
    }
   ],
   "source": [
    "import numpy as np\n",
    "import pandas as pd\n",
    "from dotenv import load_dotenv\n",
    "\n",
    "from hxpr.utils import here\n",
    "\n",
    "load_dotenv()"
   ]
  },
  {
   "cell_type": "code",
   "execution_count": 2,
   "metadata": {},
   "outputs": [],
   "source": [
    "DATA_DIR = here() / \"data\"\n",
    "\n",
    "ELECTION_DATA_DIR = DATA_DIR / \"medsl\"\n",
    "HUD_DATA_DIR = DATA_DIR / \"hud\""
   ]
  },
  {
   "cell_type": "markdown",
   "metadata": {},
   "source": [
    "## Process Presidential Election Data\n",
    "\n",
    "In this section, we open precinct level data and sum it up to the county level"
   ]
  },
  {
   "cell_type": "code",
   "execution_count": 3,
   "metadata": {},
   "outputs": [],
   "source": [
    "df = pd.read_csv(ELECTION_DATA_DIR / \"countypres_2000-2020.csv.xz\")"
   ]
  },
  {
   "cell_type": "code",
   "execution_count": 4,
   "metadata": {},
   "outputs": [],
   "source": [
    "# Just 2020\n",
    "df = df[df[\"year\"] == 2020].copy()"
   ]
  },
  {
   "cell_type": "code",
   "execution_count": 5,
   "metadata": {},
   "outputs": [],
   "source": [
    "# Note that Alaska doesn't really have \"counties\" though it does have \"election\n",
    "# districts\". It's very annoying but we'll ignore them for now until we figure out\n",
    "# a better resolution.\n",
    "df = df[df[\"state_po\"] != \"AK\"]\n",
    "\n",
    "# Moreover, Rhode Island has a slightly odd way of counting votes that includes a\n",
    "# \"Federal Precinct\" (I think this is for mail in ballots mostly). Thankfully, this\n",
    "# state doesn't even appear in our outcome data, so it's fine to exclude them\n",
    "df = df[df[\"state_po\"] != \"RI\"]\n",
    "\n",
    "# For whatever reason, this dataset doesn't setup DC as a county as well\n",
    "df.loc[df[\"state_po\"] == \"DC\", \"county_fips\"] = \"11001\"\n",
    "\n",
    "# Then standardize\n",
    "df[\"county_fips\"] = df[\"county_fips\"].apply(lambda x: f\"{int(x):05d}\")\n",
    "df[\"state_fips\"] = df[\"county_fips\"].str[:2]"
   ]
  },
  {
   "cell_type": "code",
   "execution_count": 6,
   "metadata": {},
   "outputs": [],
   "source": [
    "total_votes_by_county = (\n",
    "    df.groupby([\"state_fips\", \"county_fips\", \"party\"])[\"candidatevotes\"]\n",
    "    .sum()\n",
    "    .reset_index()\n",
    ")"
   ]
  },
  {
   "cell_type": "markdown",
   "metadata": {},
   "source": [
    "### Examining the County / ZIP crosswalk"
   ]
  },
  {
   "cell_type": "code",
   "execution_count": 7,
   "metadata": {},
   "outputs": [],
   "source": [
    "county_df = pd.read_parquet(HUD_DATA_DIR / \"COUNTY_ZIP_092021.parquet\")\n",
    "zip_df = pd.read_parquet(HUD_DATA_DIR / \"ZIP_COUNTY_092021.parquet\")"
   ]
  },
  {
   "cell_type": "code",
   "execution_count": 8,
   "metadata": {},
   "outputs": [
    {
     "data": {
      "text/plain": [
       "1    0.717079\n",
       "2    0.206746\n",
       "3    0.062652\n",
       "4    0.012282\n",
       "5    0.000988\n",
       "6    0.000228\n",
       "7    0.000025\n",
       "Name: zipcode, dtype: float64"
      ]
     },
     "execution_count": 8,
     "metadata": {},
     "output_type": "execute_result"
    }
   ],
   "source": [
    "# Most ZIP codes are contained in a single county\n",
    "county_df[\"zipcode\"].value_counts().value_counts(normalize=True)"
   ]
  },
  {
   "cell_type": "code",
   "execution_count": 9,
   "metadata": {},
   "outputs": [
    {
     "name": "stdout",
     "output_type": "stream",
     "text": [
      "0.5437285644292014 0.8084272415482606\n"
     ]
    }
   ],
   "source": [
    "# And of the ZIP codes that are in 2 counties, most of them are 95% in a single county\n",
    "# and 80% have at least 80% in a single county\n",
    "x = county_df[\"zipcode\"].value_counts()\n",
    "x[x == 2].index\n",
    "\n",
    "highest_res_ratio = (\n",
    "    zip_df[zip_df[\"zipcode\"].isin(x[x == 2].index)]\n",
    "    .groupby(\"zipcode\")[\"res_ratio\"]\n",
    "    .max()\n",
    ")\n",
    "print((highest_res_ratio > 0.95).mean(), (highest_res_ratio > 0.80).mean())"
   ]
  },
  {
   "cell_type": "code",
   "execution_count": 10,
   "metadata": {},
   "outputs": [
    {
     "data": {
      "text/plain": [
       "<AxesSubplot:>"
      ]
     },
     "execution_count": 10,
     "metadata": {},
     "output_type": "execute_result"
    },
    {
     "data": {
      "image/png": "[encoded data removed]",
      "text/plain": [
       "<Figure size 432x288 with 1 Axes>"
      ]
     },
     "metadata": {
      "needs_background": "light"
     },
     "output_type": "display_data"
    }
   ],
   "source": [
    "# As a plot\n",
    "highest_res_ratio.hist(bins=np.arange(0, 1.01, 0.05))"
   ]
  },
  {
   "cell_type": "code",
   "execution_count": 11,
   "metadata": {},
   "outputs": [],
   "source": [
    "# Still, it's a bit dangerous to attribute to a ZIP the relative partisanship of the\n",
    "# counties that contain it (think, e.g., about the partisan polarization of Brooklyn)\n",
    "# Thus, consider this a first pass\n",
    "\n",
    "two_party_vote_by_county = total_votes_by_county[\n",
    "    total_votes_by_county[\"party\"].isin([\"DEMOCRAT\", \"REPUBLICAN\"])\n",
    "]\n",
    "\n",
    "hold_df = two_party_vote_by_county.merge(county_df, on=\"county_fips\")\n",
    "\n",
    "hold_df[\"tempered_vote\"] = hold_df[\"candidatevotes\"] * hold_df[\"res_ratio\"]\n",
    "hold_df = (\n",
    "    hold_df.groupby([\"zipcode\", \"party\"])[\"tempered_vote\"]\n",
    "    .sum()\n",
    "    .reset_index(name=\"votes\")\n",
    ")\n",
    "hold_df[\"total_votes\"] = hold_df.groupby([\"zipcode\"])[\"votes\"].transform(\"sum\")\n",
    "hold_df[\"two_party_vote_share\"] = hold_df[\"votes\"] / hold_df[\"total_votes\"]\n",
    "\n",
    "hold_df.to_parquet(\n",
    "    DATA_DIR / \"phase2\" / \"zip_code_with_two_party_vote_share_crude.parquet\"\n",
    ")\n",
    "hold_df.to_csv(\n",
    "    DATA_DIR / \"phase2\" / \"zip_code_with_two_party_vote_share_crude.csv\", index=False\n",
    ")"
   ]
  }
 ],
 "metadata": {
  "interpreter": {
   "hash": "75177a496eabb50f20728af862a50d387afdfbb8805f0696b57e2dd8deb5a5d4"
  },
  "kernelspec": {
   "display_name": "Python 3.8.6 64-bit ('.venv': poetry)",
   "language": "python",
   "name": "python3"
  },
  "language_info": {
   "codemirror_mode": {
    "name": "ipython",
    "version": 3
   },
   "file_extension": ".py",
   "mimetype": "text/x-python",
   "name": "python",
   "nbconvert_exporter": "python",
   "pygments_lexer": "ipython3",
   "version": "3.8.6"
  },
  "orig_nbformat": 4
 },
 "nbformat": 4,
 "nbformat_minor": 2
}
