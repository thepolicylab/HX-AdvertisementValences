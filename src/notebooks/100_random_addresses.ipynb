{
 "cells": [
  {
   "cell_type": "markdown",
   "metadata": {},
   "source": [
    "### Creating random addresses\n",
    "\n",
    "This notebook creates some random addresses so that we can test our proposed SQL\n",
    "randomization function."
   ]
  },
  {
   "cell_type": "code",
   "execution_count": 29,
   "metadata": {},
   "outputs": [],
   "source": [
    "import copy\n",
    "import csv\n",
    "import random\n",
    "\n",
    "import pandas as pd\n",
    "from faker import Faker\n",
    "\n",
    "from hxpr.utils import here"
   ]
  },
  {
   "cell_type": "code",
   "execution_count": 30,
   "metadata": {},
   "outputs": [],
   "source": [
    "DATA_DIR = here() / \"data\"\n",
    "\n",
    "fake = Faker()"
   ]
  },
  {
   "cell_type": "code",
   "execution_count": 46,
   "metadata": {},
   "outputs": [],
   "source": [
    "data = []\n",
    "for _ in range(10_000):\n",
    "    data.append(\n",
    "        [\n",
    "            fake.name(),\n",
    "            f\"{random.choice(range(10_000))} {fake.street_name()}\",\n",
    "            \"\" if random.random() < 0.8 else fake.secondary_address(),\n",
    "            \"Savannah\",\n",
    "            \"GA\",\n",
    "            random.choice([\"01234\", \"12345\"]),\n",
    "            \"Y\" if random.random() < 0.2 else \"N\"\n",
    "        ]\n",
    "    )\n",
    "\n",
    "# Double some addresses\n",
    "data.extend([copy.copy(d) for d in data[:100]])\n",
    "\n",
    "# Add some small zip codes\n",
    "_data = [copy.copy(d) for d in data[-120:]]\n",
    "for i in range(len(_data)):\n",
    "    _data[i][-2] = f\"3344{i % 4}\"\n",
    "data.extend(_data)\n"
   ]
  },
  {
   "cell_type": "code",
   "execution_count": 47,
   "metadata": {},
   "outputs": [],
   "source": [
    "df = pd.DataFrame.from_records(\n",
    "    data,\n",
    "    columns=[\"name\", \"address1\", \"address2\", \"city\", \"state\", \"zipcode\", \"is_medicaid_eligible\"],\n",
    ")\n",
    "\n",
    "df.to_csv(DATA_DIR / \"example_addresses.csv\", index=False)"
   ]
  }
 ],
 "metadata": {
  "kernelspec": {
   "display_name": "Python 3.8.6 ('.venv': poetry)",
   "language": "python",
   "name": "python3"
  },
  "language_info": {
   "codemirror_mode": {
    "name": "ipython",
    "version": 3
   },
   "file_extension": ".py",
   "mimetype": "text/x-python",
   "name": "python",
   "nbconvert_exporter": "python",
   "pygments_lexer": "ipython3",
   "version": "3.8.6"
  },
  "orig_nbformat": 4,
  "vscode": {
   "interpreter": {
    "hash": "40b9648277281e254a2723445909a2d0a9de61c552e88ad366bf643b3de26d33"
   }
  }
 },
 "nbformat": 4,
 "nbformat_minor": 2
}
