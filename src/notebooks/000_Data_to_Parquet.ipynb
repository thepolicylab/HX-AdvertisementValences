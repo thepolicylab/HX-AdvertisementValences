{
 "cells": [
  {
   "cell_type": "markdown",
   "metadata": {},
   "source": [
    "## Converting Excel to Parquet\n",
    "\n",
    "Excel is a terrible format for programmatic work. It's bulky and takes forever to\n",
    "process. This notebook once and for all converts many Excel files in our possession\n",
    "to Parquet, which is a much more useable format."
   ]
  },
  {
   "cell_type": "code",
   "execution_count": 1,
   "metadata": {},
   "outputs": [],
   "source": [
    "import pandas as pd\n",
    "\n",
    "from hxpr.utils import here"
   ]
  },
  {
   "cell_type": "code",
   "execution_count": 2,
   "metadata": {},
   "outputs": [],
   "source": [
    "DATA_DIR = here() / \"data\""
   ]
  },
  {
   "cell_type": "code",
   "execution_count": 3,
   "metadata": {},
   "outputs": [
    {
     "name": "stdout",
     "output_type": "stream",
     "text": [
      "Converting /Users/kwilso14/repo/brown/HX-PersonalResponsibility/data/hud/ZIP_TRACT_092021.xlsx...\n",
      "Converting /Users/kwilso14/repo/brown/HX-PersonalResponsibility/data/hud/COUNTY_ZIP_092021.xlsx...\n",
      "Converting /Users/kwilso14/repo/brown/HX-PersonalResponsibility/data/hud/TRACT_ZIP_092021.xlsx...\n",
      "Converting /Users/kwilso14/repo/brown/HX-PersonalResponsibility/data/hud/ZIP_COUNTY_092021.xlsx...\n",
      "Done\n"
     ]
    }
   ],
   "source": [
    "for filename in (DATA_DIR / \"hud\").glob(\"*.xlsx\"):\n",
    "    print(f\"Converting {filename}...\")\n",
    "    df = pd.read_excel(filename)\n",
    "    df[\"zipcode\"] = df[\"ZIP\"].apply(lambda x: f\"{x:05d}\")\n",
    "    df = df.drop(columns=[\"ZIP\"])\n",
    "    df = df.rename(columns={col: col.lower() for col in df.columns})\n",
    "\n",
    "    if \"county\" in df.columns:\n",
    "        df[\"county\"] = df[\"county\"].apply(lambda x: f\"{x:05d}\")\n",
    "        df = df.rename(columns={\"county\": \"county_fips\"})\n",
    "\n",
    "    df.to_parquet(filename.with_suffix(\".parquet\"))\n",
    "print(\"Done\")"
   ]
  }
 ],
 "metadata": {
  "interpreter": {
   "hash": "75177a496eabb50f20728af862a50d387afdfbb8805f0696b57e2dd8deb5a5d4"
  },
  "kernelspec": {
   "display_name": "Python 3.8.6 64-bit ('.venv': poetry)",
   "language": "python",
   "name": "python3"
  },
  "language_info": {
   "codemirror_mode": {
    "name": "ipython",
    "version": 3
   },
   "file_extension": ".py",
   "mimetype": "text/x-python",
   "name": "python",
   "nbconvert_exporter": "python",
   "pygments_lexer": "ipython3",
   "version": "3.8.6"
  },
  "orig_nbformat": 4
 },
 "nbformat": 4,
 "nbformat_minor": 2
}
