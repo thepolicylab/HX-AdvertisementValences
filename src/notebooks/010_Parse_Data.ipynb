{
 "cells": [
  {
   "cell_type": "code",
   "execution_count": 1,
   "metadata": {},
   "outputs": [
    {
     "data": {
      "text/plain": [
       "True"
      ]
     },
     "execution_count": 1,
     "metadata": {},
     "output_type": "execute_result"
    }
   ],
   "source": [
    "import os\n",
    "\n",
    "import numpy as np\n",
    "import pandas as pd\n",
    "import us\n",
    "from census import Census\n",
    "from dotenv import load_dotenv\n",
    "from scipy import stats as st\n",
    "\n",
    "from hxpr.utils import here\n",
    "\n",
    "load_dotenv()"
   ]
  },
  {
   "cell_type": "code",
   "execution_count": 2,
   "metadata": {},
   "outputs": [],
   "source": [
    "DATA_DIR = here() / \"data\" / \"phase2\"\n",
    "INPUT_DATA_DIR = DATA_DIR / \"original\"\n",
    "OUTPUT_DATA_DIR = DATA_DIR / \"merged\"\n",
    "EXPLODED_DATA_DIR = DATA_DIR / \"exploded\"\n",
    "\n",
    "for ddir in [INPUT_DATA_DIR, OUTPUT_DATA_DIR, EXPLODED_DATA_DIR]:\n",
    "    ddir.mkdir(parents=True, exist_ok=True)\n",
    "\n",
    "BY_DEMOGRAPHICS_DATA = INPUT_DATA_DIR / \"DePaul Campaign Data - Demographics.xlsx\"\n",
    "BY_STATE_DATA = INPUT_DATA_DIR / \"DePaul Campaign Data - State.xlsx\"\n",
    "BY_ZIP_CODE_DATA = INPUT_DATA_DIR / \"Depaul Campaign Data - Zip Codes.xlsx\"\n",
    "BY_NOTHING_DATA = (\n",
    "    INPUT_DATA_DIR / \"DePaul Campaign Data - Campaign & Ad Performance.xlsx\"\n",
    ")"
   ]
  },
  {
   "cell_type": "code",
   "execution_count": 3,
   "metadata": {},
   "outputs": [],
   "source": [
    "dfs = pd.read_excel(BY_ZIP_CODE_DATA, sheet_name=None, skiprows=1)\n",
    "to_concat = []\n",
    "for df in dfs.values():\n",
    "    df = df.copy()\n",
    "    df = df.drop(columns=[col for col in df if col.startswith(\"Unnamed\")])\n",
    "\n",
    "    df[\"zipcode\"] = df[\"Matched location\"].str[:5]\n",
    "    df = df.rename(\n",
    "        columns={\n",
    "            \"Clicks\": \"clicks\",\n",
    "            \"Impr.\": \"impressions\",\n",
    "            \"CTR\": \"ctr\",\n",
    "            \"Avg. CPC\": \"average_cpc\",\n",
    "            \"Cost\": \"cost\",\n",
    "            \"Campaign\": \"campaign\",\n",
    "        }\n",
    "    )\n",
    "\n",
    "    df[\"campaign_name\"] = df[\"campaign\"].str[:-3]\n",
    "    df[\"language\"] = df[\"campaign\"].str[-2:].str.lower()\n",
    "    df[\"cost\"] = df[\"cost\"].apply(lambda x: float(\"nan\") if isinstance(x, str) else x)\n",
    "    df[\"average_cpc\"] = df[\"average_cpc\"].apply(\n",
    "        lambda x: float(\"nan\") if isinstance(x, str) else x\n",
    "    )\n",
    "    df = df[\n",
    "        [\n",
    "            \"campaign_name\",\n",
    "            \"language\",\n",
    "            \"zipcode\",\n",
    "            \"clicks\",\n",
    "            \"impressions\",\n",
    "            \"ctr\",\n",
    "            \"cost\",\n",
    "            \"average_cpc\",\n",
    "            \"campaign\",\n",
    "        ]\n",
    "    ]\n",
    "    to_concat.append(df)\n",
    "\n",
    "final_zip_df = pd.concat(to_concat)\n",
    "final_zip_df.to_parquet(OUTPUT_DATA_DIR / \"data_by_zipcode.parquet\")"
   ]
  },
  {
   "cell_type": "code",
   "execution_count": 4,
   "metadata": {},
   "outputs": [],
   "source": [
    "dfs = pd.read_excel(BY_DEMOGRAPHICS_DATA, sheet_name=None, skiprows=1)\n",
    "to_concat = []\n",
    "for df in dfs.values():\n",
    "    df = df.copy()\n",
    "    df = df.drop(columns=[col for col in df if col.startswith(\"Unnamed\")])\n",
    "\n",
    "    df = df.rename(\n",
    "        columns={\n",
    "            \"Age\": \"age\",\n",
    "            \"Gender\": \"gender\",\n",
    "            \"Parental status\": \"is_a_parent\",\n",
    "            \"Household income\": \"household_income\",\n",
    "            \"CTR\": \"ctr\",\n",
    "            \"Avg. CPC\": \"average_cpc\",\n",
    "            \"Cost\": \"cost\",\n",
    "            \"Campaign\": \"campaign\",\n",
    "            \"Clicks\": \"clicks\",\n",
    "            \"Impr.\": \"impressions\",\n",
    "        }\n",
    "    )\n",
    "\n",
    "    df[\"campaign_name\"] = df[\"campaign\"].str[:-3]\n",
    "    df[\"language\"] = df[\"campaign\"].str[-2:].str.lower()\n",
    "    df[\"cost\"] = df[\"cost\"].apply(lambda x: float(\"nan\") if isinstance(x, str) else x)\n",
    "    df[\"average_cpc\"] = df[\"average_cpc\"].apply(\n",
    "        lambda x: float(\"nan\") if isinstance(x, str) else x\n",
    "    )\n",
    "    df = df[\n",
    "        [\n",
    "            \"campaign_name\",\n",
    "            \"language\",\n",
    "            \"age\",\n",
    "            \"gender\",\n",
    "            \"is_a_parent\",\n",
    "            \"household_income\",\n",
    "            \"clicks\",\n",
    "            \"impressions\",\n",
    "            \"ctr\",\n",
    "            \"cost\",\n",
    "            \"average_cpc\",\n",
    "            \"campaign\",\n",
    "        ]\n",
    "    ]\n",
    "    assert df[\"is_a_parent\"].isin([\"Parent\", \"Not a parent\"]).all()\n",
    "    df[\"is_a_parent\"] = df[\"is_a_parent\"] != \"Not a parent\"\n",
    "    to_concat.append(df)\n",
    "\n",
    "final_demo_df = pd.concat(to_concat)\n",
    "final_demo_df.to_parquet(OUTPUT_DATA_DIR / \"data_by_demographics.parquet\")"
   ]
  },
  {
   "cell_type": "code",
   "execution_count": 5,
   "metadata": {},
   "outputs": [],
   "source": [
    "dfs = pd.read_excel(BY_STATE_DATA, sheet_name=None, skiprows=1)\n",
    "to_concat = []\n",
    "for df in dfs.values():\n",
    "    df = df.copy()\n",
    "    df = df.drop(columns=[col for col in df if col.startswith(\"Unnamed\")])\n",
    "\n",
    "    df = df.rename(\n",
    "        columns={\n",
    "            \"CTR\": \"ctr\",\n",
    "            \"Avg. CPC\": \"average_cpc\",\n",
    "            \"Cost\": \"cost\",\n",
    "            \"Campaign\": \"campaign\",\n",
    "            \"Clicks\": \"clicks\",\n",
    "            \"Impr.\": \"impressions\",\n",
    "        }\n",
    "    )\n",
    "    df[\"state\"] = df[\"Location\"].str.split(\",\").apply(lambda x: x[0])\n",
    "    df[\"state_abbr\"] = df[\"state\"].apply(lambda x: us.states.lookup(x).abbr)\n",
    "    df[\"state_fips\"] = df[\"state\"].apply(lambda x: us.states.lookup(x).fips)\n",
    "\n",
    "    df[\"campaign_name\"] = df[\"campaign\"].str[:-3]\n",
    "    df[\"language\"] = df[\"campaign\"].str[-2:].str.lower()\n",
    "    df[\"cost\"] = df[\"cost\"].apply(lambda x: float(\"nan\") if isinstance(x, str) else x)\n",
    "    df[\"average_cpc\"] = df[\"average_cpc\"].apply(\n",
    "        lambda x: float(\"nan\") if isinstance(x, str) else x\n",
    "    )\n",
    "    df = df[\n",
    "        [\n",
    "            \"campaign_name\",\n",
    "            \"language\",\n",
    "            \"state\",\n",
    "            \"state_abbr\",\n",
    "            \"state_fips\",\n",
    "            \"clicks\",\n",
    "            \"impressions\",\n",
    "            \"ctr\",\n",
    "            \"cost\",\n",
    "            \"average_cpc\",\n",
    "            \"campaign\",\n",
    "        ]\n",
    "    ]\n",
    "    to_concat.append(df)\n",
    "\n",
    "final_state_df = pd.concat(to_concat)\n",
    "assert len(final_state_df[\"state_fips\"].value_counts(dropna=False).value_counts())\n",
    "final_state_df.to_parquet(OUTPUT_DATA_DIR / \"data_by_state.parquet\")"
   ]
  },
  {
   "cell_type": "code",
   "execution_count": 6,
   "metadata": {},
   "outputs": [
    {
     "name": "stdout",
     "output_type": "stream",
     "text": [
      "Maryland\n",
      "Rhode Island\n"
     ]
    }
   ],
   "source": [
    "missing_state_fips = {state.fips for state in us.STATES} - set(df[\"state_fips\"])\n",
    "for msf in missing_state_fips:\n",
    "    print(us.states.lookup(msf).name)"
   ]
  },
  {
   "cell_type": "code",
   "execution_count": 7,
   "metadata": {},
   "outputs": [
    {
     "data": {
      "text/plain": [
       "5616715"
      ]
     },
     "execution_count": 7,
     "metadata": {},
     "output_type": "execute_result"
    }
   ],
   "source": [
    "final_state_df[\"impressions\"].sum()"
   ]
  },
  {
   "cell_type": "code",
   "execution_count": 8,
   "metadata": {},
   "outputs": [
    {
     "data": {
      "text/plain": [
       "5616715"
      ]
     },
     "execution_count": 8,
     "metadata": {},
     "output_type": "execute_result"
    }
   ],
   "source": [
    "final_demo_df[\"impressions\"].sum()"
   ]
  },
  {
   "cell_type": "code",
   "execution_count": 9,
   "metadata": {},
   "outputs": [
    {
     "data": {
      "text/plain": [
       "3466884"
      ]
     },
     "execution_count": 9,
     "metadata": {},
     "output_type": "execute_result"
    }
   ],
   "source": [
    "final_zip_df[\"impressions\"].sum()"
   ]
  },
  {
   "cell_type": "markdown",
   "metadata": {},
   "source": [
    "### Some Notes\n",
    "\n",
    "* Final impression counts in state and demo totals are the same, but slightly _above_ the summary \"Campaign Performance sheet\n",
    "* Final impressinon counts from the ZIP code tables are 60% lower\n",
    "* The data does not contain details on the individual combinations that were put together in each location. However, they do have a description in final sheet (not described here) of \"Low, Good, Best\" for the individual asset combinations"
   ]
  },
  {
   "cell_type": "markdown",
   "metadata": {},
   "source": [
    "## Appending Census Data"
   ]
  },
  {
   "cell_type": "markdown",
   "metadata": {},
   "source": [
    "### By ZIP Code (ZCTA?)"
   ]
  },
  {
   "cell_type": "code",
   "execution_count": 10,
   "metadata": {},
   "outputs": [],
   "source": [
    "c = Census(os.environ[\"CENSUS_API_KEY\"])"
   ]
  },
  {
   "cell_type": "code",
   "execution_count": 11,
   "metadata": {},
   "outputs": [
    {
     "data": {
      "text/html": [
       "<div>\n",
       "<style scoped>\n",
       "    .dataframe tbody tr th:only-of-type {\n",
       "        vertical-align: middle;\n",
       "    }\n",
       "\n",
       "    .dataframe tbody tr th {\n",
       "        vertical-align: top;\n",
       "    }\n",
       "\n",
       "    .dataframe thead th {\n",
       "        text-align: right;\n",
       "    }\n",
       "</style>\n",
       "<table border=\"1\" class=\"dataframe\">\n",
       "  <thead>\n",
       "    <tr style=\"text-align: right;\">\n",
       "      <th></th>\n",
       "      <th>campaign_name</th>\n",
       "      <th>language</th>\n",
       "      <th>zipcode</th>\n",
       "      <th>clicks</th>\n",
       "      <th>impressions</th>\n",
       "      <th>ctr</th>\n",
       "      <th>cost</th>\n",
       "      <th>average_cpc</th>\n",
       "      <th>campaign</th>\n",
       "      <th>total_population</th>\n",
       "      <th>state_fips</th>\n",
       "    </tr>\n",
       "  </thead>\n",
       "  <tbody>\n",
       "    <tr>\n",
       "      <th>1118</th>\n",
       "      <td>Self-Oriented</td>\n",
       "      <td>en</td>\n",
       "      <td>06338</td>\n",
       "      <td>0</td>\n",
       "      <td>7</td>\n",
       "      <td>0.0</td>\n",
       "      <td>0.0</td>\n",
       "      <td>NaN</td>\n",
       "      <td>Self-Oriented EN</td>\n",
       "      <td>NaN</td>\n",
       "      <td>NaN</td>\n",
       "    </tr>\n",
       "    <tr>\n",
       "      <th>1935</th>\n",
       "      <td>Self-Oriented</td>\n",
       "      <td>en</td>\n",
       "      <td>11249</td>\n",
       "      <td>0</td>\n",
       "      <td>3</td>\n",
       "      <td>0.0</td>\n",
       "      <td>0.0</td>\n",
       "      <td>NaN</td>\n",
       "      <td>Self-Oriented EN</td>\n",
       "      <td>NaN</td>\n",
       "      <td>NaN</td>\n",
       "    </tr>\n",
       "    <tr>\n",
       "      <th>3717</th>\n",
       "      <td>Self-Oriented</td>\n",
       "      <td>en</td>\n",
       "      <td>18711</td>\n",
       "      <td>0</td>\n",
       "      <td>12</td>\n",
       "      <td>0.0</td>\n",
       "      <td>0.0</td>\n",
       "      <td>NaN</td>\n",
       "      <td>Self-Oriented EN</td>\n",
       "      <td>NaN</td>\n",
       "      <td>NaN</td>\n",
       "    </tr>\n",
       "    <tr>\n",
       "      <th>4127</th>\n",
       "      <td>Self-Oriented</td>\n",
       "      <td>en</td>\n",
       "      <td>22649</td>\n",
       "      <td>0</td>\n",
       "      <td>1</td>\n",
       "      <td>0.0</td>\n",
       "      <td>0.0</td>\n",
       "      <td>NaN</td>\n",
       "      <td>Self-Oriented EN</td>\n",
       "      <td>NaN</td>\n",
       "      <td>NaN</td>\n",
       "    </tr>\n",
       "    <tr>\n",
       "      <th>4408</th>\n",
       "      <td>Self-Oriented</td>\n",
       "      <td>en</td>\n",
       "      <td>24061</td>\n",
       "      <td>0</td>\n",
       "      <td>21</td>\n",
       "      <td>0.0</td>\n",
       "      <td>0.0</td>\n",
       "      <td>NaN</td>\n",
       "      <td>Self-Oriented EN</td>\n",
       "      <td>NaN</td>\n",
       "      <td>NaN</td>\n",
       "    </tr>\n",
       "    <tr>\n",
       "      <th>...</th>\n",
       "      <td>...</td>\n",
       "      <td>...</td>\n",
       "      <td>...</td>\n",
       "      <td>...</td>\n",
       "      <td>...</td>\n",
       "      <td>...</td>\n",
       "      <td>...</td>\n",
       "      <td>...</td>\n",
       "      <td>...</td>\n",
       "      <td>...</td>\n",
       "      <td>...</td>\n",
       "    </tr>\n",
       "    <tr>\n",
       "      <th>139515</th>\n",
       "      <td>Personal Responsibility</td>\n",
       "      <td>sp</td>\n",
       "      <td>92093</td>\n",
       "      <td>0</td>\n",
       "      <td>4</td>\n",
       "      <td>0.0</td>\n",
       "      <td>0.0</td>\n",
       "      <td>NaN</td>\n",
       "      <td>Personal Responsibility SP</td>\n",
       "      <td>NaN</td>\n",
       "      <td>NaN</td>\n",
       "    </tr>\n",
       "    <tr>\n",
       "      <th>139548</th>\n",
       "      <td>Personal Responsibility</td>\n",
       "      <td>sp</td>\n",
       "      <td>92179</td>\n",
       "      <td>0</td>\n",
       "      <td>7</td>\n",
       "      <td>0.0</td>\n",
       "      <td>0.0</td>\n",
       "      <td>NaN</td>\n",
       "      <td>Personal Responsibility SP</td>\n",
       "      <td>NaN</td>\n",
       "      <td>NaN</td>\n",
       "    </tr>\n",
       "    <tr>\n",
       "      <th>139928</th>\n",
       "      <td>Personal Responsibility</td>\n",
       "      <td>sp</td>\n",
       "      <td>93737</td>\n",
       "      <td>0</td>\n",
       "      <td>4</td>\n",
       "      <td>0.0</td>\n",
       "      <td>0.0</td>\n",
       "      <td>NaN</td>\n",
       "      <td>Personal Responsibility SP</td>\n",
       "      <td>NaN</td>\n",
       "      <td>NaN</td>\n",
       "    </tr>\n",
       "    <tr>\n",
       "      <th>140174</th>\n",
       "      <td>Personal Responsibility</td>\n",
       "      <td>sp</td>\n",
       "      <td>95141</td>\n",
       "      <td>0</td>\n",
       "      <td>2</td>\n",
       "      <td>0.0</td>\n",
       "      <td>0.0</td>\n",
       "      <td>NaN</td>\n",
       "      <td>Personal Responsibility SP</td>\n",
       "      <td>NaN</td>\n",
       "      <td>NaN</td>\n",
       "    </tr>\n",
       "    <tr>\n",
       "      <th>141047</th>\n",
       "      <td>Personal Responsibility</td>\n",
       "      <td>sp</td>\n",
       "      <td>99731</td>\n",
       "      <td>0</td>\n",
       "      <td>5</td>\n",
       "      <td>0.0</td>\n",
       "      <td>0.0</td>\n",
       "      <td>NaN</td>\n",
       "      <td>Personal Responsibility SP</td>\n",
       "      <td>NaN</td>\n",
       "      <td>NaN</td>\n",
       "    </tr>\n",
       "  </tbody>\n",
       "</table>\n",
       "<p>214 rows × 11 columns</p>\n",
       "</div>"
      ],
      "text/plain": [
       "                  campaign_name language zipcode  clicks  impressions  ctr  \\\n",
       "1118              Self-Oriented       en   06338       0            7  0.0   \n",
       "1935              Self-Oriented       en   11249       0            3  0.0   \n",
       "3717              Self-Oriented       en   18711       0           12  0.0   \n",
       "4127              Self-Oriented       en   22649       0            1  0.0   \n",
       "4408              Self-Oriented       en   24061       0           21  0.0   \n",
       "...                         ...      ...     ...     ...          ...  ...   \n",
       "139515  Personal Responsibility       sp   92093       0            4  0.0   \n",
       "139548  Personal Responsibility       sp   92179       0            7  0.0   \n",
       "139928  Personal Responsibility       sp   93737       0            4  0.0   \n",
       "140174  Personal Responsibility       sp   95141       0            2  0.0   \n",
       "141047  Personal Responsibility       sp   99731       0            5  0.0   \n",
       "\n",
       "        cost  average_cpc                    campaign  total_population  \\\n",
       "1118     0.0          NaN            Self-Oriented EN               NaN   \n",
       "1935     0.0          NaN            Self-Oriented EN               NaN   \n",
       "3717     0.0          NaN            Self-Oriented EN               NaN   \n",
       "4127     0.0          NaN            Self-Oriented EN               NaN   \n",
       "4408     0.0          NaN            Self-Oriented EN               NaN   \n",
       "...      ...          ...                         ...               ...   \n",
       "139515   0.0          NaN  Personal Responsibility SP               NaN   \n",
       "139548   0.0          NaN  Personal Responsibility SP               NaN   \n",
       "139928   0.0          NaN  Personal Responsibility SP               NaN   \n",
       "140174   0.0          NaN  Personal Responsibility SP               NaN   \n",
       "141047   0.0          NaN  Personal Responsibility SP               NaN   \n",
       "\n",
       "       state_fips  \n",
       "1118          NaN  \n",
       "1935          NaN  \n",
       "3717          NaN  \n",
       "4127          NaN  \n",
       "4408          NaN  \n",
       "...           ...  \n",
       "139515        NaN  \n",
       "139548        NaN  \n",
       "139928        NaN  \n",
       "140174        NaN  \n",
       "141047        NaN  \n",
       "\n",
       "[214 rows x 11 columns]"
      ]
     },
     "execution_count": 11,
     "metadata": {},
     "output_type": "execute_result"
    }
   ],
   "source": [
    "zcta_df = pd.DataFrame(\n",
    "    c.acs5.zipcode([\"B01001_001E\"], zcta=\"*\", state_fips=\"*\", year=2019)\n",
    ")\n",
    "zcta_df = zcta_df.rename(\n",
    "    columns={\n",
    "        \"B01001_001E\": \"total_population\",\n",
    "        \"state\": \"state_fips\",\n",
    "        \"zip code tabulation area\": \"zipcode\",\n",
    "    }\n",
    ")\n",
    "merged_zip_df = final_zip_df.merge(zcta_df, how=\"left\", on=\"zipcode\")\n",
    "merged_zip_df.to_parquet(OUTPUT_DATA_DIR / \"data_by_zipcode_merged_census.parquet\")\n",
    "merged_zip_df[merged_zip_df[\"state_fips\"].isna()]"
   ]
  },
  {
   "cell_type": "markdown",
   "metadata": {},
   "source": [
    "### More notes\n",
    "\n",
    "So that first ZIP code (06338) is a [P.O. Box ZIP Code](https://www.zip-codes.com/zip-code/06338/zip-code-06338.asp), which strikes me as odd. What exactly is going on with this ZIP code data. (Note that that website is usually accurate, though you should really double check with SmartyStreets, which has the raw USPS data.)"
   ]
  },
  {
   "cell_type": "code",
   "execution_count": 12,
   "metadata": {},
   "outputs": [
    {
     "name": "stdout",
     "output_type": "stream",
     "text": [
      "language\n",
      "en    0.011085\n",
      "sp    0.013317\n",
      "dtype: float64\n"
     ]
    },
    {
     "name": "stderr",
     "output_type": "stream",
     "text": [
      "/var/folders/_8/wxdcgmrd7b931622mzvpxn6c0000gq/T/ipykernel_57977/4170725730.py:1: FutureWarning: Indexing with multiple keys (implicitly converted to a tuple of keys) will be deprecated, use a list instead.\n",
      "  table = final_state_df.groupby(\"language\")[\"clicks\", \"impressions\"].sum()\n"
     ]
    },
    {
     "data": {
      "text/plain": [
       "(580.8663117592343,\n",
       " 2.430191684357767e-128,\n",
       " 1,\n",
       " array([[  36201.79854363,   31935.20145637],\n",
       "        [2948009.20145637, 2600568.79854363]]))"
      ]
     },
     "execution_count": 12,
     "metadata": {},
     "output_type": "execute_result"
    }
   ],
   "source": [
    "table = final_state_df.groupby(\"language\")[\"clicks\", \"impressions\"].sum()\n",
    "print(table[\"clicks\"] / table[\"impressions\"])\n",
    "table[\"impressions\"] = table[\"impressions\"] - table[\"clicks\"]\n",
    "st.contingency.chi2_contingency(table.values.T)"
   ]
  },
  {
   "cell_type": "code",
   "execution_count": 13,
   "metadata": {},
   "outputs": [
    {
     "name": "stdout",
     "output_type": "stream",
     "text": [
      "campaign\n",
      "Helping Community EN          0.011268\n",
      "Helping Others EN             0.010803\n",
      "Personal Responsibility EN    0.012852\n",
      "Self-Oriented EN              0.009820\n",
      "dtype: float64\n"
     ]
    }
   ],
   "source": [
    "table = (\n",
    "    final_state_df[final_state_df[\"language\"] == \"en\"]\n",
    "    .groupby([\"campaign\"])[[\"clicks\", \"impressions\"]]\n",
    "    .sum()\n",
    ")\n",
    "print(table[\"clicks\"] / table[\"impressions\"])"
   ]
  },
  {
   "cell_type": "code",
   "execution_count": 14,
   "metadata": {},
   "outputs": [
    {
     "name": "stdout",
     "output_type": "stream",
     "text": [
      "campaign\n",
      "Helping Community SP          0.016799\n",
      "Helping Others SP             0.012042\n",
      "Personal Responsibility SP    0.011959\n",
      "Self-Oriented SP              0.013431\n",
      "dtype: float64\n"
     ]
    }
   ],
   "source": [
    "table = (\n",
    "    final_state_df[final_state_df[\"language\"] == \"sp\"]\n",
    "    .groupby([\"campaign\"])[[\"clicks\", \"impressions\"]]\n",
    "    .sum()\n",
    ")\n",
    "print(table[\"clicks\"] / table[\"impressions\"])"
   ]
  },
  {
   "cell_type": "markdown",
   "metadata": {},
   "source": [
    "### Explode data\n",
    "\n",
    "Hansoo requests the data be broken into one line per impression. This is done below."
   ]
  },
  {
   "cell_type": "code",
   "execution_count": 15,
   "metadata": {},
   "outputs": [
    {
     "name": "stdout",
     "output_type": "stream",
     "text": [
      "Exploding data_by_state.parquet...\n",
      "Exploding data_by_demographics.parquet...\n",
      "Exploding data_by_zipcode_merged_census.parquet...\n",
      "Exploding data_by_zipcode.parquet...\n",
      "Done\n"
     ]
    }
   ],
   "source": [
    "for filename in OUTPUT_DATA_DIR.glob(\"data*.parquet\"):\n",
    "    print(f\"Exploding {filename.name}...\")\n",
    "    df = pd.read_parquet(filename)\n",
    "    df[\"num_in_group\"] = [\n",
    "        np.arange(num_impressions, dtype=int)\n",
    "        for num_impressions in df[\"impressions\"].values\n",
    "    ]\n",
    "    exploded_df = df.explode(\"num_in_group\")\n",
    "    exploded_df[\"was_clicked\"] = exploded_df[\"num_in_group\"] < exploded_df[\"clicks\"]\n",
    "    exploded_df = exploded_df.drop(\n",
    "        columns=[\"clicks\", \"impressions\", \"ctr\", \"cost\", \"average_cpc\", \"num_in_group\"]\n",
    "    )\n",
    "    exploded_df.to_parquet(EXPLODED_DATA_DIR / f\"exploded_{filename.name}\")\n",
    "    exploded_df.to_csv(\n",
    "        EXPLODED_DATA_DIR / f\"exploded_{filename.with_suffix('').name}.csv.gz\",\n",
    "        index=False,\n",
    "    )\n",
    "print(\"Done\")"
   ]
  }
 ],
 "metadata": {
  "interpreter": {
   "hash": "2909bfd4e094a7e64cbeb638db1a677b6ca08775a012d2dc7dfa00706ecb73cb"
  },
  "kernelspec": {
   "display_name": "Python 3 (ipykernel)",
   "language": "python",
   "name": "python3"
  },
  "language_info": {
   "codemirror_mode": {
    "name": "ipython",
    "version": 3
   },
   "file_extension": ".py",
   "mimetype": "text/x-python",
   "name": "python",
   "nbconvert_exporter": "python",
   "pygments_lexer": "ipython3",
   "version": "3.8.6"
  }
 },
 "nbformat": 4,
 "nbformat_minor": 2
}
