{
 "cells": [
  {
   "cell_type": "code",
   "execution_count": 1,
   "metadata": {},
   "outputs": [
    {
     "data": {
      "text/plain": [
       "True"
      ]
     },
     "execution_count": 1,
     "metadata": {},
     "output_type": "execute_result"
    }
   ],
   "source": [
    "import itertools as its\n",
    "import os\n",
    "import time\n",
    "\n",
    "import numpy as np\n",
    "import pandas as pd\n",
    "import us\n",
    "from census import Census\n",
    "from dotenv import load_dotenv\n",
    "from tqdm.notebook import tqdm\n",
    "\n",
    "from hxpr.utils import here\n",
    "\n",
    "load_dotenv()"
   ]
  },
  {
   "cell_type": "code",
   "execution_count": 2,
   "metadata": {},
   "outputs": [],
   "source": [
    "DATA_DIR = here() / \"data\"\n",
    "\n",
    "HUD_DATA_DIR = DATA_DIR / \"hud\""
   ]
  },
  {
   "cell_type": "code",
   "execution_count": 3,
   "metadata": {},
   "outputs": [],
   "source": [
    "c = Census(os.environ[\"CENSUS_API_KEY\"])"
   ]
  },
  {
   "cell_type": "code",
   "execution_count": 4,
   "metadata": {},
   "outputs": [],
   "source": [
    "tract_df = pd.read_parquet(HUD_DATA_DIR / \"TRACT_ZIP_092021.parquet\")\n",
    "zip_df = pd.read_parquet(HUD_DATA_DIR / \"ZIP_COUNTY_092021.parquet\")"
   ]
  },
  {
   "cell_type": "code",
   "execution_count": 5,
   "metadata": {},
   "outputs": [
    {
     "data": {
      "application/vnd.jupyter.widget-view+json": {
       "model_id": "61ad92f648704e80ab539fab0886dfe8",
       "version_major": 2,
       "version_minor": 0
      },
      "text/plain": [
       "  0%|          | 0/408 [00:00<?, ?it/s]"
      ]
     },
     "metadata": {},
     "output_type": "display_data"
    }
   ],
   "source": [
    "all_fields = [\n",
    "    \"group(B01001)\",\n",
    "    \"group(B02001)\",\n",
    "    \"group(B03001)\",\n",
    "    \"B22008_001E\",\n",
    "    \"group(B06012)\",\n",
    "    \"group(B06009)\",\n",
    "    \"group(B27001)\",\n",
    "    \"group(B27002)\",\n",
    "]\n",
    "\n",
    "# Census won't let you do a wildcard pull on state, so just iterate\n",
    "all_data = []\n",
    "for state, fields in tqdm(list(its.product(us.STATES + [us.states.DC], all_fields))):\n",
    "    data = c.acs5.state_county_tract(fields, state.fips, \"*\", \"*\", year=2019)\n",
    "    all_data.append(data)\n",
    "\n",
    "    # Be kind to the Census Bureau\n",
    "    time.sleep(0.1)\n",
    "\n",
    "df = pd.concat([pd.DataFrame(dat) for dat in all_data])"
   ]
  },
  {
   "cell_type": "code",
   "execution_count": 47,
   "metadata": {},
   "outputs": [
    {
     "data": {
      "text/plain": [
       "state           8\n",
       "county          8\n",
       "tract           8\n",
       "GEO_ID          7\n",
       "NAME            7\n",
       "               ..\n",
       "B03001_028E     1\n",
       "B03001_028EA    1\n",
       "B03001_028M     1\n",
       "B03001_028MA    1\n",
       "B27002_057MA    1\n",
       "Length: 1022, dtype: int64"
      ]
     },
     "execution_count": 47,
     "metadata": {},
     "output_type": "execute_result"
    }
   ],
   "source": [
    "df.columns.value_counts()"
   ]
  },
  {
   "cell_type": "code",
   "execution_count": 48,
   "metadata": {},
   "outputs": [],
   "source": [
    "dfs = []\n",
    "for i in range(0, len(all_data), len(all_fields)):\n",
    "    df = pd.concat(\n",
    "        [\n",
    "            pd.DataFrame(datum).sort_values(by=[\"state\", \"county\", \"tract\"])\n",
    "            for datum in all_data[i : i + len(all_fields)]\n",
    "        ]\n",
    "    )\n",
    "    dfs.append(df)"
   ]
  },
  {
   "cell_type": "code",
   "execution_count": 49,
   "metadata": {},
   "outputs": [],
   "source": [
    "df = pd.concat(dfs)"
   ]
  },
  {
   "cell_type": "code",
   "execution_count": 50,
   "metadata": {},
   "outputs": [],
   "source": [
    "vcs = df.columns.value_counts()\n",
    "cols = vcs[vcs > 1].index"
   ]
  },
  {
   "cell_type": "code",
   "execution_count": 52,
   "metadata": {},
   "outputs": [],
   "source": [
    "for col in cols:\n",
    "    if not (df[col].values == df[col].iloc[:, 0].values[:, np.newaxis]).all():\n",
    "        print(col)"
   ]
  },
  {
   "cell_type": "code",
   "execution_count": 54,
   "metadata": {},
   "outputs": [],
   "source": [
    "df = df.copy()\n",
    "df[\"state_abbr\"] = df[\"state\"].apply(lambda x: us.states.lookup(x).abbr)"
   ]
  },
  {
   "cell_type": "code",
   "execution_count": 55,
   "metadata": {},
   "outputs": [
    {
     "data": {
      "text/plain": [
       "dtype('int64')"
      ]
     },
     "execution_count": 55,
     "metadata": {},
     "output_type": "execute_result"
    }
   ],
   "source": [
    "tract_df[\"tract\"].dtype"
   ]
  },
  {
   "cell_type": "code",
   "execution_count": 56,
   "metadata": {},
   "outputs": [],
   "source": [
    "df[\"full_tract_id\"] = df[\"state\"] + df[\"county\"] + df[\"tract\"]\n",
    "tract_df[\"full_tract_id\"] = tract_df[\"tract\"].apply(lambda x: f\"{x:011d}\")"
   ]
  },
  {
   "cell_type": "code",
   "execution_count": 57,
   "metadata": {},
   "outputs": [
    {
     "name": "stderr",
     "output_type": "stream",
     "text": [
      "/Users/kwilso14/repo/brown/HX-PersonalResponsibility/.venv/lib/python3.8/site-packages/pandas/core/reshape/merge.py:784: PerformanceWarning: DataFrame is highly fragmented.  This is usually the result of calling `frame.insert` many times, which has poor performance.  Consider joining all columns at once using pd.concat(axis=1) instead.  To get a de-fragmented frame, use `newframe = frame.copy()`\n",
      "  result[self.indicator_name] = Categorical(\n"
     ]
    }
   ],
   "source": [
    "merged_df = df.merge(tract_df, on=\"full_tract_id\", how=\"left\", indicator=\"_merge\")"
   ]
  },
  {
   "cell_type": "code",
   "execution_count": 58,
   "metadata": {},
   "outputs": [
    {
     "data": {
      "text/plain": [
       "both          1364848\n",
       "left_only        3480\n",
       "right_only          0\n",
       "Name: _merge, dtype: int64"
      ]
     },
     "execution_count": 58,
     "metadata": {},
     "output_type": "execute_result"
    }
   ],
   "source": [
    "# Lost a very small number of tracts. Anything interesting about them?\n",
    "merged_df[\"_merge\"].value_counts()"
   ]
  },
  {
   "cell_type": "code",
   "execution_count": 59,
   "metadata": {},
   "outputs": [
    {
     "data": {
      "text/plain": [
       "FL    464\n",
       "MI    400\n",
       "NY    336\n",
       "CA    256\n",
       "HI    224\n",
       "AZ    168\n",
       "WI    136\n",
       "MD    112\n",
       "TX    112\n",
       "NC    104\n",
       "LA     96\n",
       "WA     96\n",
       "VA     96\n",
       "NJ     72\n",
       "SC     72\n",
       "OR     64\n",
       "MA     64\n",
       "NM     56\n",
       "ME     56\n",
       "GA     48\n",
       "OH     48\n",
       "NV     40\n",
       "IN     32\n",
       "CT     32\n",
       "CO     32\n",
       "RI     24\n",
       "SD     24\n",
       "MN     24\n",
       "MS     24\n",
       "KY     24\n",
       "IL     24\n",
       "DE     24\n",
       "MT     16\n",
       "AK     16\n",
       "KS     16\n",
       "AL     16\n",
       "NH      8\n",
       "PA      8\n",
       "TN      8\n",
       "IA      8\n",
       "Name: state_abbr, dtype: int64"
      ]
     },
     "execution_count": 59,
     "metadata": {},
     "output_type": "execute_result"
    }
   ],
   "source": [
    "# Not particularly concentrated. A little odd that Michigan has so many\n",
    "merged_df[merged_df[\"_merge\"] == \"left_only\"].state_abbr.value_counts()"
   ]
  },
  {
   "cell_type": "code",
   "execution_count": 60,
   "metadata": {},
   "outputs": [
    {
     "data": {
      "text/plain": [
       "<AxesSubplot:>"
      ]
     },
     "execution_count": 60,
     "metadata": {},
     "output_type": "execute_result"
    },
    {
     "data": {
      "image/png": "[encoded data removed]",
      "text/plain": [
       "<Figure size 432x288 with 1 Axes>"
      ]
     },
     "metadata": {
      "needs_background": "light"
     },
     "output_type": "display_data"
    }
   ],
   "source": [
    "# Almost all of them have 0 population, so that's not super shocking\n",
    "# There are some long trails, but nothing grossly large\n",
    "merged_df[merged_df[\"_merge\"] == \"left_only\"].B01001_001E.hist(bins=20)"
   ]
  },
  {
   "cell_type": "code",
   "execution_count": 61,
   "metadata": {},
   "outputs": [
    {
     "data": {
      "text/plain": [
       "0.0       368\n",
       "1268.0      2\n",
       "602.0       1\n",
       "1043.0      1\n",
       "1663.0      1\n",
       "         ... \n",
       "3073.0      1\n",
       "4813.0      1\n",
       "4641.0      1\n",
       "67.0        1\n",
       "964.0       1\n",
       "Name: B01001_001E, Length: 67, dtype: int64"
      ]
     },
     "execution_count": 61,
     "metadata": {},
     "output_type": "execute_result"
    }
   ],
   "source": [
    "merged_df[merged_df[\"_merge\"] == \"left_only\"].B01001_001E.value_counts()"
   ]
  },
  {
   "cell_type": "code",
   "execution_count": 63,
   "metadata": {},
   "outputs": [],
   "source": [
    "# This merges in all the data and attempts to sum it up\n",
    "\n",
    "kept_df = merged_df[merged_df[\"zipcode\"].notna()].copy()"
   ]
  },
  {
   "cell_type": "code",
   "execution_count": 67,
   "metadata": {},
   "outputs": [],
   "source": [
    "drop_columns = [\n",
    "    col for col in kept_df.columns if col.upper() == col and not col.endswith(\"E\")\n",
    "]"
   ]
  },
  {
   "cell_type": "code",
   "execution_count": 70,
   "metadata": {},
   "outputs": [],
   "source": [
    "kept_df.drop(columns=drop_columns, inplace=True)"
   ]
  },
  {
   "cell_type": "code",
   "execution_count": 75,
   "metadata": {},
   "outputs": [],
   "source": [
    "to_temper_cols = [\n",
    "    col\n",
    "    for col in kept_df.columns\n",
    "    if col == col.upper() and col.endswith(\"E\") and col != \"NAME\"\n",
    "]"
   ]
  },
  {
   "cell_type": "code",
   "execution_count": 79,
   "metadata": {},
   "outputs": [
    {
     "data": {
      "application/vnd.jupyter.widget-view+json": {
       "model_id": "03322635fb3e4c279064b0bdec69d722",
       "version_major": 2,
       "version_minor": 0
      },
      "text/plain": [
       "  0%|          | 0/255 [00:00<?, ?it/s]"
      ]
     },
     "metadata": {},
     "output_type": "display_data"
    }
   ],
   "source": [
    "for field in tqdm(to_temper_cols):\n",
    "    kept_df[f\"tempered_{field}\"] = kept_df[field] * kept_df[\"res_ratio\"]\n",
    "\n",
    "final_df = kept_df.groupby(\"zipcode\")[\n",
    "    [f\"tempered_{field}\" for field in to_temper_cols]\n",
    "].sum()"
   ]
  },
  {
   "cell_type": "code",
   "execution_count": 80,
   "metadata": {},
   "outputs": [],
   "source": [
    "final_df.to_csv(DATA_DIR / \"phase2\" / \"demographics_by_zipcode.csv.gz\")"
   ]
  }
 ],
 "metadata": {
  "interpreter": {
   "hash": "75177a496eabb50f20728af862a50d387afdfbb8805f0696b57e2dd8deb5a5d4"
  },
  "kernelspec": {
   "display_name": "Python 3.8.6 64-bit ('.venv': poetry)",
   "language": "python",
   "name": "python3"
  },
  "language_info": {
   "codemirror_mode": {
    "name": "ipython",
    "version": 3
   },
   "file_extension": ".py",
   "mimetype": "text/x-python",
   "name": "python",
   "nbconvert_exporter": "python",
   "pygments_lexer": "ipython3",
   "version": "3.8.6"
  },
  "orig_nbformat": 4
 },
 "nbformat": 4,
 "nbformat_minor": 2
}
